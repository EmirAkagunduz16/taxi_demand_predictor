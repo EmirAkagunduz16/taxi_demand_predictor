{
 "cells": [
  {
   "cell_type": "code",
   "execution_count": 1,
   "metadata": {},
   "outputs": [],
   "source": [
    "import warnings\n",
    "warnings.filterwarnings('ignore')"
   ]
  },
  {
   "cell_type": "code",
   "execution_count": 2,
   "metadata": {},
   "outputs": [],
   "source": [
    "import pandas as pd\n",
    "from src.paths import TRANSFORMED_DATA_DIR\n",
    "\n",
    "df = pd.read_parquet(TRANSFORMED_DATA_DIR / 'tabular_data.parquet')"
   ]
  },
  {
   "cell_type": "code",
   "execution_count": 3,
   "metadata": {},
   "outputs": [
    {
     "name": "stdout",
     "output_type": "stream",
     "text": [
      "(32595, 674)\n",
      "(32595,)\n",
      "(56710, 674)\n",
      "(56710,)\n"
     ]
    }
   ],
   "source": [
    "from datetime import datetime\n",
    "from src.data_split import train_test_split\n",
    "\n",
    "X_train, y_train, X_test, y_test = train_test_split(\n",
    "  df,\n",
    "  cutoff_date=datetime(2023, 6, 1, 0, 0, 0),\n",
    "  target_column_name='target_rides_next_hour'\n",
    ")\n",
    "\n",
    "print(f'{X_train.shape}')\n",
    "print(f'{y_train.shape}')\n",
    "print(f'{X_test.shape}')\n",
    "print(f'{y_test.shape}')"
   ]
  },
  {
   "cell_type": "code",
   "execution_count": 4,
   "metadata": {},
   "outputs": [],
   "source": [
    "import numpy as np\n",
    "from sklearn.model_selection import KFold, TimeSeriesSplit\n",
    "from sklearn.pipeline import make_pipeline\n",
    "from sklearn.metrics import mean_absolute_error\n",
    "import optuna\n",
    "\n",
    "from src.model import get_pipeline\n",
    "\n",
    "def objective(trial: optuna.trial.Trial) -> float:\n",
    "    \"\"\"\n",
    "    Given a set of hyper-parameters, it trains a model and computes an average\n",
    "    validation error based on a TimeSeriesSplit\n",
    "    \"\"\"\n",
    "    # pick hyper-parameters\n",
    "    hyperparams = {\n",
    "        \"metric\": 'mae',\n",
    "        \"verbose\": -1,\n",
    "        \"num_leaves\": trial.suggest_int(\"num_leaves\", 2, 256),\n",
    "        \"feature_fraction\": trial.suggest_float(\"feature_fraction\", 0.2, 1.0),\n",
    "        \"bagging_fraction\": trial.suggest_float(\"bagging_fraction\", 0.2, 1.0),\n",
    "        \"min_child_samples\": trial.suggest_int(\"min_child_samples\", 3, 100),   \n",
    "    }\n",
    "       \n",
    "    tss = KFold(n_splits=3)\n",
    "    scores = []\n",
    "        \n",
    "    for train_index, val_index in tss.split(X_train):\n",
    "\n",
    "        # split data for training and validation\n",
    "        X_train_, X_val_ = X_train.iloc[train_index, :], X_train.iloc[val_index,:]\n",
    "        y_train_, y_val_ = y_train.iloc[train_index], y_train.iloc[val_index]\n",
    "        \n",
    "        # train the model\n",
    "        pipeline = get_pipeline(**hyperparams)\n",
    "        pipeline.fit(X_train_, y_train_)\n",
    "        \n",
    "        # evaluate the model\n",
    "        y_pred = pipeline.predict(X_val_)\n",
    "        mae = mean_absolute_error(y_val_, y_pred)\n",
    "\n",
    "        scores.append(mae)\n",
    "   \n",
    "    # Return the mean score\n",
    "    return np.array(scores).mean()"
   ]
  },
  {
   "cell_type": "code",
   "execution_count": 5,
   "metadata": {},
   "outputs": [
    {
     "name": "stderr",
     "output_type": "stream",
     "text": [
      "[I 2024-04-22 14:39:41,066] A new study created in memory with name: no-name-2fef30a3-3f07-435b-947d-588c290bc9af\n",
      "[I 2024-04-22 14:39:55,173] Trial 0 finished with value: 2.5723226993928967 and parameters: {'num_leaves': 163, 'feature_fraction': 0.6553407316276827, 'bagging_fraction': 0.996042901264252, 'min_child_samples': 27}. Best is trial 0 with value: 2.5723226993928967.\n",
      "[I 2024-04-22 14:40:03,926] Trial 1 finished with value: 2.626393063705967 and parameters: {'num_leaves': 144, 'feature_fraction': 0.4673702626856997, 'bagging_fraction': 0.4487969441760048, 'min_child_samples': 98}. Best is trial 0 with value: 2.5723226993928967.\n",
      "[I 2024-04-22 14:40:12,328] Trial 2 finished with value: 2.589102119487292 and parameters: {'num_leaves': 157, 'feature_fraction': 0.3815101452324327, 'bagging_fraction': 0.6483623916767264, 'min_child_samples': 29}. Best is trial 0 with value: 2.5723226993928967.\n",
      "[I 2024-04-22 14:40:17,408] Trial 3 finished with value: 2.5842591735786744 and parameters: {'num_leaves': 94, 'feature_fraction': 0.24001534085994064, 'bagging_fraction': 0.8990405640006853, 'min_child_samples': 63}. Best is trial 0 with value: 2.5723226993928967.\n",
      "[I 2024-04-22 14:40:22,745] Trial 4 finished with value: 2.6483657353269012 and parameters: {'num_leaves': 21, 'feature_fraction': 0.9293460315343935, 'bagging_fraction': 0.3490745404263403, 'min_child_samples': 59}. Best is trial 0 with value: 2.5723226993928967.\n"
     ]
    }
   ],
   "source": [
    "study = optuna.create_study(direction=\"minimize\")\n",
    "study.optimize(objective, n_trials=5)"
   ]
  },
  {
   "cell_type": "code",
   "execution_count": null,
   "metadata": {},
   "outputs": [],
   "source": []
  }
 ],
 "metadata": {
  "kernelspec": {
   "display_name": ".venv",
   "language": "python",
   "name": "python3"
  },
  "language_info": {
   "codemirror_mode": {
    "name": "ipython",
    "version": 3
   },
   "file_extension": ".py",
   "mimetype": "text/x-python",
   "name": "python",
   "nbconvert_exporter": "python",
   "pygments_lexer": "ipython3",
   "version": "3.9.13"
  }
 },
 "nbformat": 4,
 "nbformat_minor": 2
}
