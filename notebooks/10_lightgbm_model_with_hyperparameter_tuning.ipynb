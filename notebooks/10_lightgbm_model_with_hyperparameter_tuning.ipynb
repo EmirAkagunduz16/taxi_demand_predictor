{
 "cells": [
  {
   "cell_type": "code",
   "execution_count": 2,
   "metadata": {},
   "outputs": [],
   "source": [
    "import warnings\n",
    "warnings.filterwarnings('ignore')"
   ]
  },
  {
   "cell_type": "code",
   "execution_count": 3,
   "metadata": {},
   "outputs": [],
   "source": [
    "import pandas as pd\n",
    "from src.paths import TRANSFORMED_DATA_DIR\n",
    "\n",
    "df = pd.read_parquet(TRANSFORMED_DATA_DIR / 'tabular_data.parquet')"
   ]
  },
  {
   "cell_type": "code",
   "execution_count": 4,
   "metadata": {},
   "outputs": [
    {
     "name": "stdout",
     "output_type": "stream",
     "text": [
      "(32595, 674)\n",
      "(32595,)\n",
      "(56710, 674)\n",
      "(56710,)\n"
     ]
    }
   ],
   "source": [
    "from datetime import datetime\n",
    "from src.data_split import train_test_split\n",
    "\n",
    "X_train, y_train, X_test, y_test = train_test_split(\n",
    "  df,\n",
    "  cutoff_date=datetime(2023, 6, 1, 0, 0, 0),\n",
    "  target_column_name='target_rides_next_hour'\n",
    ")\n",
    "\n",
    "print(f'{X_train.shape}')\n",
    "print(f'{y_train.shape}')\n",
    "print(f'{X_test.shape}')\n",
    "print(f'{y_test.shape}')"
   ]
  },
  {
   "cell_type": "code",
   "execution_count": 5,
   "metadata": {},
   "outputs": [],
   "source": [
    "import numpy as np\n",
    "from sklearn.model_selection import KFold, TimeSeriesSplit\n",
    "from sklearn.pipeline import make_pipeline\n",
    "from sklearn.metrics import mean_absolute_error\n",
    "import optuna\n",
    "\n",
    "from src.model import get_pipeline\n",
    "\n",
    "def objective(trial: optuna.trial.Trial) -> float:\n",
    "    \"\"\"\n",
    "    Given a set of hyper-parameters, it trains a model and computes an average\n",
    "    validation error based on a TimeSeriesSplit\n",
    "    \"\"\"\n",
    "    # pick hyper-parameters\n",
    "    hyperparams = {\n",
    "        \"metric\": 'mae',\n",
    "        \"verbose\": -1,\n",
    "        \"num_leaves\": trial.suggest_int(\"num_leaves\", 2, 256),\n",
    "        \"feature_fraction\": trial.suggest_float(\"feature_fraction\", 0.2, 1.0),\n",
    "        \"bagging_fraction\": trial.suggest_float(\"bagging_fraction\", 0.2, 1.0),\n",
    "        \"min_child_samples\": trial.suggest_int(\"min_child_samples\", 3, 100),   \n",
    "    }\n",
    "       \n",
    "    tss = KFold(n_splits=3)\n",
    "    scores = []\n",
    "        \n",
    "    for train_index, val_index in tss.split(X_train):\n",
    "\n",
    "        # split data for training and validation\n",
    "        X_train_, X_val_ = X_train.iloc[train_index, :], X_train.iloc[val_index,:]\n",
    "        y_train_, y_val_ = y_train.iloc[train_index], y_train.iloc[val_index]\n",
    "        \n",
    "        # train the model\n",
    "        pipeline = get_pipeline(**hyperparams)\n",
    "        pipeline.fit(X_train_, y_train_)\n",
    "        \n",
    "        # evaluate the model\n",
    "        y_pred = pipeline.predict(X_val_)\n",
    "        mae = mean_absolute_error(y_val_, y_pred)\n",
    "\n",
    "        scores.append(mae)\n",
    "   \n",
    "    # Return the mean score\n",
    "    return np.array(scores).mean()"
   ]
  },
  {
   "cell_type": "code",
   "execution_count": 6,
   "metadata": {},
   "outputs": [
    {
     "name": "stderr",
     "output_type": "stream",
     "text": [
      "[I 2024-04-22 18:37:43,543] A new study created in memory with name: no-name-cfdbeee6-78b9-41b6-903d-79a1355a9630\n",
      "[I 2024-04-22 18:37:49,516] Trial 0 finished with value: 2.6720555405244184 and parameters: {'num_leaves': 177, 'feature_fraction': 0.227542002019144, 'bagging_fraction': 0.48556607135340446, 'min_child_samples': 94}. Best is trial 0 with value: 2.6720555405244184.\n",
      "[I 2024-04-22 18:38:03,706] Trial 1 finished with value: 2.668259487193288 and parameters: {'num_leaves': 185, 'feature_fraction': 0.7414965584498614, 'bagging_fraction': 0.43053722643226283, 'min_child_samples': 86}. Best is trial 1 with value: 2.668259487193288.\n",
      "[I 2024-04-22 18:38:12,917] Trial 2 finished with value: 2.5888041456898043 and parameters: {'num_leaves': 144, 'feature_fraction': 0.5092338572602877, 'bagging_fraction': 0.9512789648012225, 'min_child_samples': 32}. Best is trial 2 with value: 2.5888041456898043.\n",
      "[I 2024-04-22 18:38:17,760] Trial 3 finished with value: 2.6108043794899563 and parameters: {'num_leaves': 106, 'feature_fraction': 0.23820922366157005, 'bagging_fraction': 0.9229633733942595, 'min_child_samples': 40}. Best is trial 2 with value: 2.5888041456898043.\n",
      "[I 2024-04-22 18:38:28,983] Trial 4 finished with value: 2.6554810407179104 and parameters: {'num_leaves': 225, 'feature_fraction': 0.41600529510627526, 'bagging_fraction': 0.808988994150337, 'min_child_samples': 12}. Best is trial 2 with value: 2.5888041456898043.\n"
     ]
    }
   ],
   "source": [
    "study = optuna.create_study(direction=\"minimize\")\n",
    "study.optimize(objective, n_trials=5)"
   ]
  },
  {
   "cell_type": "code",
   "execution_count": 7,
   "metadata": {},
   "outputs": [
    {
     "name": "stdout",
     "output_type": "stream",
     "text": [
      "best_params={'num_leaves': 144, 'feature_fraction': 0.5092338572602877, 'bagging_fraction': 0.9512789648012225, 'min_child_samples': 32}\n"
     ]
    }
   ],
   "source": [
    "best_params = study.best_trial.params\n",
    "print(f'{best_params=}')"
   ]
  },
  {
   "cell_type": "code",
   "execution_count": 8,
   "metadata": {},
   "outputs": [
    {
     "name": "stdout",
     "output_type": "stream",
     "text": [
      "[LightGBM] [Warning] feature_fraction is set=0.5092338572602877, colsample_bytree=1.0 will be ignored. Current value: feature_fraction=0.5092338572602877\n",
      "[LightGBM] [Warning] bagging_fraction is set=0.9512789648012225, subsample=1.0 will be ignored. Current value: bagging_fraction=0.9512789648012225\n",
      "[LightGBM] [Warning] feature_fraction is set=0.5092338572602877, colsample_bytree=1.0 will be ignored. Current value: feature_fraction=0.5092338572602877\n",
      "[LightGBM] [Warning] bagging_fraction is set=0.9512789648012225, subsample=1.0 will be ignored. Current value: bagging_fraction=0.9512789648012225\n",
      "[LightGBM] [Info] Auto-choosing col-wise multi-threading, the overhead of testing was 0.056084 seconds.\n",
      "You can set `force_col_wise=true` to remove the overhead.\n",
      "[LightGBM] [Info] Total Bins 156147\n",
      "[LightGBM] [Info] Number of data points in the train set: 32595, number of used features: 675\n",
      "[LightGBM] [Info] Start training from score 11.288664\n"
     ]
    },
    {
     "data": {
      "text/html": [
       "<style>#sk-container-id-1 {\n",
       "  /* Definition of color scheme common for light and dark mode */\n",
       "  --sklearn-color-text: black;\n",
       "  --sklearn-color-line: gray;\n",
       "  /* Definition of color scheme for unfitted estimators */\n",
       "  --sklearn-color-unfitted-level-0: #fff5e6;\n",
       "  --sklearn-color-unfitted-level-1: #f6e4d2;\n",
       "  --sklearn-color-unfitted-level-2: #ffe0b3;\n",
       "  --sklearn-color-unfitted-level-3: chocolate;\n",
       "  /* Definition of color scheme for fitted estimators */\n",
       "  --sklearn-color-fitted-level-0: #f0f8ff;\n",
       "  --sklearn-color-fitted-level-1: #d4ebff;\n",
       "  --sklearn-color-fitted-level-2: #b3dbfd;\n",
       "  --sklearn-color-fitted-level-3: cornflowerblue;\n",
       "\n",
       "  /* Specific color for light theme */\n",
       "  --sklearn-color-text-on-default-background: var(--sg-text-color, var(--theme-code-foreground, var(--jp-content-font-color1, black)));\n",
       "  --sklearn-color-background: var(--sg-background-color, var(--theme-background, var(--jp-layout-color0, white)));\n",
       "  --sklearn-color-border-box: var(--sg-text-color, var(--theme-code-foreground, var(--jp-content-font-color1, black)));\n",
       "  --sklearn-color-icon: #696969;\n",
       "\n",
       "  @media (prefers-color-scheme: dark) {\n",
       "    /* Redefinition of color scheme for dark theme */\n",
       "    --sklearn-color-text-on-default-background: var(--sg-text-color, var(--theme-code-foreground, var(--jp-content-font-color1, white)));\n",
       "    --sklearn-color-background: var(--sg-background-color, var(--theme-background, var(--jp-layout-color0, #111)));\n",
       "    --sklearn-color-border-box: var(--sg-text-color, var(--theme-code-foreground, var(--jp-content-font-color1, white)));\n",
       "    --sklearn-color-icon: #878787;\n",
       "  }\n",
       "}\n",
       "\n",
       "#sk-container-id-1 {\n",
       "  color: var(--sklearn-color-text);\n",
       "}\n",
       "\n",
       "#sk-container-id-1 pre {\n",
       "  padding: 0;\n",
       "}\n",
       "\n",
       "#sk-container-id-1 input.sk-hidden--visually {\n",
       "  border: 0;\n",
       "  clip: rect(1px 1px 1px 1px);\n",
       "  clip: rect(1px, 1px, 1px, 1px);\n",
       "  height: 1px;\n",
       "  margin: -1px;\n",
       "  overflow: hidden;\n",
       "  padding: 0;\n",
       "  position: absolute;\n",
       "  width: 1px;\n",
       "}\n",
       "\n",
       "#sk-container-id-1 div.sk-dashed-wrapped {\n",
       "  border: 1px dashed var(--sklearn-color-line);\n",
       "  margin: 0 0.4em 0.5em 0.4em;\n",
       "  box-sizing: border-box;\n",
       "  padding-bottom: 0.4em;\n",
       "  background-color: var(--sklearn-color-background);\n",
       "}\n",
       "\n",
       "#sk-container-id-1 div.sk-container {\n",
       "  /* jupyter's `normalize.less` sets `[hidden] { display: none; }`\n",
       "     but bootstrap.min.css set `[hidden] { display: none !important; }`\n",
       "     so we also need the `!important` here to be able to override the\n",
       "     default hidden behavior on the sphinx rendered scikit-learn.org.\n",
       "     See: https://github.com/scikit-learn/scikit-learn/issues/21755 */\n",
       "  display: inline-block !important;\n",
       "  position: relative;\n",
       "}\n",
       "\n",
       "#sk-container-id-1 div.sk-text-repr-fallback {\n",
       "  display: none;\n",
       "}\n",
       "\n",
       "div.sk-parallel-item,\n",
       "div.sk-serial,\n",
       "div.sk-item {\n",
       "  /* draw centered vertical line to link estimators */\n",
       "  background-image: linear-gradient(var(--sklearn-color-text-on-default-background), var(--sklearn-color-text-on-default-background));\n",
       "  background-size: 2px 100%;\n",
       "  background-repeat: no-repeat;\n",
       "  background-position: center center;\n",
       "}\n",
       "\n",
       "/* Parallel-specific style estimator block */\n",
       "\n",
       "#sk-container-id-1 div.sk-parallel-item::after {\n",
       "  content: \"\";\n",
       "  width: 100%;\n",
       "  border-bottom: 2px solid var(--sklearn-color-text-on-default-background);\n",
       "  flex-grow: 1;\n",
       "}\n",
       "\n",
       "#sk-container-id-1 div.sk-parallel {\n",
       "  display: flex;\n",
       "  align-items: stretch;\n",
       "  justify-content: center;\n",
       "  background-color: var(--sklearn-color-background);\n",
       "  position: relative;\n",
       "}\n",
       "\n",
       "#sk-container-id-1 div.sk-parallel-item {\n",
       "  display: flex;\n",
       "  flex-direction: column;\n",
       "}\n",
       "\n",
       "#sk-container-id-1 div.sk-parallel-item:first-child::after {\n",
       "  align-self: flex-end;\n",
       "  width: 50%;\n",
       "}\n",
       "\n",
       "#sk-container-id-1 div.sk-parallel-item:last-child::after {\n",
       "  align-self: flex-start;\n",
       "  width: 50%;\n",
       "}\n",
       "\n",
       "#sk-container-id-1 div.sk-parallel-item:only-child::after {\n",
       "  width: 0;\n",
       "}\n",
       "\n",
       "/* Serial-specific style estimator block */\n",
       "\n",
       "#sk-container-id-1 div.sk-serial {\n",
       "  display: flex;\n",
       "  flex-direction: column;\n",
       "  align-items: center;\n",
       "  background-color: var(--sklearn-color-background);\n",
       "  padding-right: 1em;\n",
       "  padding-left: 1em;\n",
       "}\n",
       "\n",
       "\n",
       "/* Toggleable style: style used for estimator/Pipeline/ColumnTransformer box that is\n",
       "clickable and can be expanded/collapsed.\n",
       "- Pipeline and ColumnTransformer use this feature and define the default style\n",
       "- Estimators will overwrite some part of the style using the `sk-estimator` class\n",
       "*/\n",
       "\n",
       "/* Pipeline and ColumnTransformer style (default) */\n",
       "\n",
       "#sk-container-id-1 div.sk-toggleable {\n",
       "  /* Default theme specific background. It is overwritten whether we have a\n",
       "  specific estimator or a Pipeline/ColumnTransformer */\n",
       "  background-color: var(--sklearn-color-background);\n",
       "}\n",
       "\n",
       "/* Toggleable label */\n",
       "#sk-container-id-1 label.sk-toggleable__label {\n",
       "  cursor: pointer;\n",
       "  display: block;\n",
       "  width: 100%;\n",
       "  margin-bottom: 0;\n",
       "  padding: 0.5em;\n",
       "  box-sizing: border-box;\n",
       "  text-align: center;\n",
       "}\n",
       "\n",
       "#sk-container-id-1 label.sk-toggleable__label-arrow:before {\n",
       "  /* Arrow on the left of the label */\n",
       "  content: \"▸\";\n",
       "  float: left;\n",
       "  margin-right: 0.25em;\n",
       "  color: var(--sklearn-color-icon);\n",
       "}\n",
       "\n",
       "#sk-container-id-1 label.sk-toggleable__label-arrow:hover:before {\n",
       "  color: var(--sklearn-color-text);\n",
       "}\n",
       "\n",
       "/* Toggleable content - dropdown */\n",
       "\n",
       "#sk-container-id-1 div.sk-toggleable__content {\n",
       "  max-height: 0;\n",
       "  max-width: 0;\n",
       "  overflow: hidden;\n",
       "  text-align: left;\n",
       "  /* unfitted */\n",
       "  background-color: var(--sklearn-color-unfitted-level-0);\n",
       "}\n",
       "\n",
       "#sk-container-id-1 div.sk-toggleable__content.fitted {\n",
       "  /* fitted */\n",
       "  background-color: var(--sklearn-color-fitted-level-0);\n",
       "}\n",
       "\n",
       "#sk-container-id-1 div.sk-toggleable__content pre {\n",
       "  margin: 0.2em;\n",
       "  border-radius: 0.25em;\n",
       "  color: var(--sklearn-color-text);\n",
       "  /* unfitted */\n",
       "  background-color: var(--sklearn-color-unfitted-level-0);\n",
       "}\n",
       "\n",
       "#sk-container-id-1 div.sk-toggleable__content.fitted pre {\n",
       "  /* unfitted */\n",
       "  background-color: var(--sklearn-color-fitted-level-0);\n",
       "}\n",
       "\n",
       "#sk-container-id-1 input.sk-toggleable__control:checked~div.sk-toggleable__content {\n",
       "  /* Expand drop-down */\n",
       "  max-height: 200px;\n",
       "  max-width: 100%;\n",
       "  overflow: auto;\n",
       "}\n",
       "\n",
       "#sk-container-id-1 input.sk-toggleable__control:checked~label.sk-toggleable__label-arrow:before {\n",
       "  content: \"▾\";\n",
       "}\n",
       "\n",
       "/* Pipeline/ColumnTransformer-specific style */\n",
       "\n",
       "#sk-container-id-1 div.sk-label input.sk-toggleable__control:checked~label.sk-toggleable__label {\n",
       "  color: var(--sklearn-color-text);\n",
       "  background-color: var(--sklearn-color-unfitted-level-2);\n",
       "}\n",
       "\n",
       "#sk-container-id-1 div.sk-label.fitted input.sk-toggleable__control:checked~label.sk-toggleable__label {\n",
       "  background-color: var(--sklearn-color-fitted-level-2);\n",
       "}\n",
       "\n",
       "/* Estimator-specific style */\n",
       "\n",
       "/* Colorize estimator box */\n",
       "#sk-container-id-1 div.sk-estimator input.sk-toggleable__control:checked~label.sk-toggleable__label {\n",
       "  /* unfitted */\n",
       "  background-color: var(--sklearn-color-unfitted-level-2);\n",
       "}\n",
       "\n",
       "#sk-container-id-1 div.sk-estimator.fitted input.sk-toggleable__control:checked~label.sk-toggleable__label {\n",
       "  /* fitted */\n",
       "  background-color: var(--sklearn-color-fitted-level-2);\n",
       "}\n",
       "\n",
       "#sk-container-id-1 div.sk-label label.sk-toggleable__label,\n",
       "#sk-container-id-1 div.sk-label label {\n",
       "  /* The background is the default theme color */\n",
       "  color: var(--sklearn-color-text-on-default-background);\n",
       "}\n",
       "\n",
       "/* On hover, darken the color of the background */\n",
       "#sk-container-id-1 div.sk-label:hover label.sk-toggleable__label {\n",
       "  color: var(--sklearn-color-text);\n",
       "  background-color: var(--sklearn-color-unfitted-level-2);\n",
       "}\n",
       "\n",
       "/* Label box, darken color on hover, fitted */\n",
       "#sk-container-id-1 div.sk-label.fitted:hover label.sk-toggleable__label.fitted {\n",
       "  color: var(--sklearn-color-text);\n",
       "  background-color: var(--sklearn-color-fitted-level-2);\n",
       "}\n",
       "\n",
       "/* Estimator label */\n",
       "\n",
       "#sk-container-id-1 div.sk-label label {\n",
       "  font-family: monospace;\n",
       "  font-weight: bold;\n",
       "  display: inline-block;\n",
       "  line-height: 1.2em;\n",
       "}\n",
       "\n",
       "#sk-container-id-1 div.sk-label-container {\n",
       "  text-align: center;\n",
       "}\n",
       "\n",
       "/* Estimator-specific */\n",
       "#sk-container-id-1 div.sk-estimator {\n",
       "  font-family: monospace;\n",
       "  border: 1px dotted var(--sklearn-color-border-box);\n",
       "  border-radius: 0.25em;\n",
       "  box-sizing: border-box;\n",
       "  margin-bottom: 0.5em;\n",
       "  /* unfitted */\n",
       "  background-color: var(--sklearn-color-unfitted-level-0);\n",
       "}\n",
       "\n",
       "#sk-container-id-1 div.sk-estimator.fitted {\n",
       "  /* fitted */\n",
       "  background-color: var(--sklearn-color-fitted-level-0);\n",
       "}\n",
       "\n",
       "/* on hover */\n",
       "#sk-container-id-1 div.sk-estimator:hover {\n",
       "  /* unfitted */\n",
       "  background-color: var(--sklearn-color-unfitted-level-2);\n",
       "}\n",
       "\n",
       "#sk-container-id-1 div.sk-estimator.fitted:hover {\n",
       "  /* fitted */\n",
       "  background-color: var(--sklearn-color-fitted-level-2);\n",
       "}\n",
       "\n",
       "/* Specification for estimator info (e.g. \"i\" and \"?\") */\n",
       "\n",
       "/* Common style for \"i\" and \"?\" */\n",
       "\n",
       ".sk-estimator-doc-link,\n",
       "a:link.sk-estimator-doc-link,\n",
       "a:visited.sk-estimator-doc-link {\n",
       "  float: right;\n",
       "  font-size: smaller;\n",
       "  line-height: 1em;\n",
       "  font-family: monospace;\n",
       "  background-color: var(--sklearn-color-background);\n",
       "  border-radius: 1em;\n",
       "  height: 1em;\n",
       "  width: 1em;\n",
       "  text-decoration: none !important;\n",
       "  margin-left: 1ex;\n",
       "  /* unfitted */\n",
       "  border: var(--sklearn-color-unfitted-level-1) 1pt solid;\n",
       "  color: var(--sklearn-color-unfitted-level-1);\n",
       "}\n",
       "\n",
       ".sk-estimator-doc-link.fitted,\n",
       "a:link.sk-estimator-doc-link.fitted,\n",
       "a:visited.sk-estimator-doc-link.fitted {\n",
       "  /* fitted */\n",
       "  border: var(--sklearn-color-fitted-level-1) 1pt solid;\n",
       "  color: var(--sklearn-color-fitted-level-1);\n",
       "}\n",
       "\n",
       "/* On hover */\n",
       "div.sk-estimator:hover .sk-estimator-doc-link:hover,\n",
       ".sk-estimator-doc-link:hover,\n",
       "div.sk-label-container:hover .sk-estimator-doc-link:hover,\n",
       ".sk-estimator-doc-link:hover {\n",
       "  /* unfitted */\n",
       "  background-color: var(--sklearn-color-unfitted-level-3);\n",
       "  color: var(--sklearn-color-background);\n",
       "  text-decoration: none;\n",
       "}\n",
       "\n",
       "div.sk-estimator.fitted:hover .sk-estimator-doc-link.fitted:hover,\n",
       ".sk-estimator-doc-link.fitted:hover,\n",
       "div.sk-label-container:hover .sk-estimator-doc-link.fitted:hover,\n",
       ".sk-estimator-doc-link.fitted:hover {\n",
       "  /* fitted */\n",
       "  background-color: var(--sklearn-color-fitted-level-3);\n",
       "  color: var(--sklearn-color-background);\n",
       "  text-decoration: none;\n",
       "}\n",
       "\n",
       "/* Span, style for the box shown on hovering the info icon */\n",
       ".sk-estimator-doc-link span {\n",
       "  display: none;\n",
       "  z-index: 9999;\n",
       "  position: relative;\n",
       "  font-weight: normal;\n",
       "  right: .2ex;\n",
       "  padding: .5ex;\n",
       "  margin: .5ex;\n",
       "  width: min-content;\n",
       "  min-width: 20ex;\n",
       "  max-width: 50ex;\n",
       "  color: var(--sklearn-color-text);\n",
       "  box-shadow: 2pt 2pt 4pt #999;\n",
       "  /* unfitted */\n",
       "  background: var(--sklearn-color-unfitted-level-0);\n",
       "  border: .5pt solid var(--sklearn-color-unfitted-level-3);\n",
       "}\n",
       "\n",
       ".sk-estimator-doc-link.fitted span {\n",
       "  /* fitted */\n",
       "  background: var(--sklearn-color-fitted-level-0);\n",
       "  border: var(--sklearn-color-fitted-level-3);\n",
       "}\n",
       "\n",
       ".sk-estimator-doc-link:hover span {\n",
       "  display: block;\n",
       "}\n",
       "\n",
       "/* \"?\"-specific style due to the `<a>` HTML tag */\n",
       "\n",
       "#sk-container-id-1 a.estimator_doc_link {\n",
       "  float: right;\n",
       "  font-size: 1rem;\n",
       "  line-height: 1em;\n",
       "  font-family: monospace;\n",
       "  background-color: var(--sklearn-color-background);\n",
       "  border-radius: 1rem;\n",
       "  height: 1rem;\n",
       "  width: 1rem;\n",
       "  text-decoration: none;\n",
       "  /* unfitted */\n",
       "  color: var(--sklearn-color-unfitted-level-1);\n",
       "  border: var(--sklearn-color-unfitted-level-1) 1pt solid;\n",
       "}\n",
       "\n",
       "#sk-container-id-1 a.estimator_doc_link.fitted {\n",
       "  /* fitted */\n",
       "  border: var(--sklearn-color-fitted-level-1) 1pt solid;\n",
       "  color: var(--sklearn-color-fitted-level-1);\n",
       "}\n",
       "\n",
       "/* On hover */\n",
       "#sk-container-id-1 a.estimator_doc_link:hover {\n",
       "  /* unfitted */\n",
       "  background-color: var(--sklearn-color-unfitted-level-3);\n",
       "  color: var(--sklearn-color-background);\n",
       "  text-decoration: none;\n",
       "}\n",
       "\n",
       "#sk-container-id-1 a.estimator_doc_link.fitted:hover {\n",
       "  /* fitted */\n",
       "  background-color: var(--sklearn-color-fitted-level-3);\n",
       "}\n",
       "</style><div id=\"sk-container-id-1\" class=\"sk-top-container\"><div class=\"sk-text-repr-fallback\"><pre>Pipeline(steps=[(&#x27;functiontransformer&#x27;,\n",
       "                 FunctionTransformer(func=&lt;function average_rides_last_4_weeks at 0x00000232BBB42C10&gt;)),\n",
       "                (&#x27;temporalfeaturesengineer&#x27;, TemporalFeaturesEngineer()),\n",
       "                (&#x27;lgbmregressor&#x27;,\n",
       "                 LGBMRegressor(bagging_fraction=0.9512789648012225,\n",
       "                               feature_fraction=0.5092338572602877,\n",
       "                               min_child_samples=32, num_leaves=144))])</pre><b>In a Jupyter environment, please rerun this cell to show the HTML representation or trust the notebook. <br />On GitHub, the HTML representation is unable to render, please try loading this page with nbviewer.org.</b></div><div class=\"sk-container\" hidden><div class=\"sk-item sk-dashed-wrapped\"><div class=\"sk-label-container\"><div class=\"sk-label fitted sk-toggleable\"><input class=\"sk-toggleable__control sk-hidden--visually\" id=\"sk-estimator-id-1\" type=\"checkbox\" ><label for=\"sk-estimator-id-1\" class=\"sk-toggleable__label fitted sk-toggleable__label-arrow fitted\">&nbsp;&nbsp;Pipeline<a class=\"sk-estimator-doc-link fitted\" rel=\"noreferrer\" target=\"_blank\" href=\"https://scikit-learn.org/1.4/modules/generated/sklearn.pipeline.Pipeline.html\">?<span>Documentation for Pipeline</span></a><span class=\"sk-estimator-doc-link fitted\">i<span>Fitted</span></span></label><div class=\"sk-toggleable__content fitted\"><pre>Pipeline(steps=[(&#x27;functiontransformer&#x27;,\n",
       "                 FunctionTransformer(func=&lt;function average_rides_last_4_weeks at 0x00000232BBB42C10&gt;)),\n",
       "                (&#x27;temporalfeaturesengineer&#x27;, TemporalFeaturesEngineer()),\n",
       "                (&#x27;lgbmregressor&#x27;,\n",
       "                 LGBMRegressor(bagging_fraction=0.9512789648012225,\n",
       "                               feature_fraction=0.5092338572602877,\n",
       "                               min_child_samples=32, num_leaves=144))])</pre></div> </div></div><div class=\"sk-serial\"><div class=\"sk-item\"><div class=\"sk-estimator fitted sk-toggleable\"><input class=\"sk-toggleable__control sk-hidden--visually\" id=\"sk-estimator-id-2\" type=\"checkbox\" ><label for=\"sk-estimator-id-2\" class=\"sk-toggleable__label fitted sk-toggleable__label-arrow fitted\">&nbsp;FunctionTransformer<a class=\"sk-estimator-doc-link fitted\" rel=\"noreferrer\" target=\"_blank\" href=\"https://scikit-learn.org/1.4/modules/generated/sklearn.preprocessing.FunctionTransformer.html\">?<span>Documentation for FunctionTransformer</span></a></label><div class=\"sk-toggleable__content fitted\"><pre>FunctionTransformer(func=&lt;function average_rides_last_4_weeks at 0x00000232BBB42C10&gt;)</pre></div> </div></div><div class=\"sk-item\"><div class=\"sk-estimator fitted sk-toggleable\"><input class=\"sk-toggleable__control sk-hidden--visually\" id=\"sk-estimator-id-3\" type=\"checkbox\" ><label for=\"sk-estimator-id-3\" class=\"sk-toggleable__label fitted sk-toggleable__label-arrow fitted\">TemporalFeaturesEngineer</label><div class=\"sk-toggleable__content fitted\"><pre>TemporalFeaturesEngineer()</pre></div> </div></div><div class=\"sk-item\"><div class=\"sk-estimator fitted sk-toggleable\"><input class=\"sk-toggleable__control sk-hidden--visually\" id=\"sk-estimator-id-4\" type=\"checkbox\" ><label for=\"sk-estimator-id-4\" class=\"sk-toggleable__label fitted sk-toggleable__label-arrow fitted\">LGBMRegressor</label><div class=\"sk-toggleable__content fitted\"><pre>LGBMRegressor(bagging_fraction=0.9512789648012225,\n",
       "              feature_fraction=0.5092338572602877, min_child_samples=32,\n",
       "              num_leaves=144)</pre></div> </div></div></div></div></div></div>"
      ],
      "text/plain": [
       "Pipeline(steps=[('functiontransformer',\n",
       "                 FunctionTransformer(func=<function average_rides_last_4_weeks at 0x00000232BBB42C10>)),\n",
       "                ('temporalfeaturesengineer', TemporalFeaturesEngineer()),\n",
       "                ('lgbmregressor',\n",
       "                 LGBMRegressor(bagging_fraction=0.9512789648012225,\n",
       "                               feature_fraction=0.5092338572602877,\n",
       "                               min_child_samples=32, num_leaves=144))])"
      ]
     },
     "execution_count": 8,
     "metadata": {},
     "output_type": "execute_result"
    }
   ],
   "source": [
    "pipeline = get_pipeline(**best_params)\n",
    "pipeline.fit(X_train, y_train)"
   ]
  },
  {
   "cell_type": "code",
   "execution_count": 9,
   "metadata": {},
   "outputs": [
    {
     "name": "stdout",
     "output_type": "stream",
     "text": [
      "[LightGBM] [Warning] feature_fraction is set=0.5092338572602877, colsample_bytree=1.0 will be ignored. Current value: feature_fraction=0.5092338572602877\n",
      "[LightGBM] [Warning] bagging_fraction is set=0.9512789648012225, subsample=1.0 will be ignored. Current value: bagging_fraction=0.9512789648012225\n",
      "test_mae=2.9953\n"
     ]
    }
   ],
   "source": [
    "predictions = pipeline.predict(X_test)\n",
    "test_mae = mean_absolute_error(y_test, predictions)\n",
    "print(f'{test_mae=:.4f}')"
   ]
  },
  {
   "cell_type": "code",
   "execution_count": 12,
   "metadata": {},
   "outputs": [
    {
     "data": {
      "application/vnd.plotly.v1+json": {
       "config": {
        "plotlyServerURL": "https://plot.ly"
       },
       "data": [
        {
         "hovertemplate": "x=%{x}<br>y=%{y}<extra></extra>",
         "legendgroup": "",
         "line": {
          "color": "#636efa",
          "dash": "solid"
         },
         "marker": {
          "symbol": "circle"
         },
         "mode": "lines+markers",
         "name": "",
         "orientation": "v",
         "showlegend": false,
         "type": "scatter",
         "x": [
          "2023-09-19T00:00:00",
          "2023-09-19T01:00:00",
          "2023-09-19T02:00:00",
          "2023-09-19T03:00:00",
          "2023-09-19T04:00:00",
          "2023-09-19T05:00:00",
          "2023-09-19T06:00:00",
          "2023-09-19T07:00:00",
          "2023-09-19T08:00:00",
          "2023-09-19T09:00:00",
          "2023-09-19T10:00:00",
          "2023-09-19T11:00:00",
          "2023-09-19T12:00:00",
          "2023-09-19T13:00:00",
          "2023-09-19T14:00:00",
          "2023-09-19T15:00:00",
          "2023-09-19T16:00:00",
          "2023-09-19T17:00:00",
          "2023-09-19T18:00:00",
          "2023-09-19T19:00:00",
          "2023-09-19T20:00:00",
          "2023-09-19T21:00:00",
          "2023-09-19T22:00:00",
          "2023-09-19T23:00:00",
          "2023-09-20T00:00:00",
          "2023-09-20T01:00:00",
          "2023-09-20T02:00:00",
          "2023-09-20T03:00:00",
          "2023-09-20T04:00:00",
          "2023-09-20T05:00:00",
          "2023-09-20T06:00:00",
          "2023-09-20T07:00:00",
          "2023-09-20T08:00:00",
          "2023-09-20T09:00:00",
          "2023-09-20T10:00:00",
          "2023-09-20T11:00:00",
          "2023-09-20T12:00:00",
          "2023-09-20T13:00:00",
          "2023-09-20T14:00:00",
          "2023-09-20T15:00:00",
          "2023-09-20T16:00:00",
          "2023-09-20T17:00:00",
          "2023-09-20T18:00:00",
          "2023-09-20T19:00:00",
          "2023-09-20T20:00:00",
          "2023-09-20T21:00:00",
          "2023-09-20T22:00:00",
          "2023-09-20T23:00:00",
          "2023-09-21T00:00:00",
          "2023-09-21T01:00:00",
          "2023-09-21T02:00:00",
          "2023-09-21T03:00:00",
          "2023-09-21T04:00:00",
          "2023-09-21T05:00:00",
          "2023-09-21T06:00:00",
          "2023-09-21T07:00:00",
          "2023-09-21T08:00:00",
          "2023-09-21T09:00:00",
          "2023-09-21T10:00:00",
          "2023-09-21T11:00:00",
          "2023-09-21T12:00:00",
          "2023-09-21T13:00:00",
          "2023-09-21T14:00:00",
          "2023-09-21T15:00:00",
          "2023-09-21T16:00:00",
          "2023-09-21T17:00:00",
          "2023-09-21T18:00:00",
          "2023-09-21T19:00:00",
          "2023-09-21T20:00:00",
          "2023-09-21T21:00:00",
          "2023-09-21T22:00:00",
          "2023-09-21T23:00:00",
          "2023-09-22T00:00:00",
          "2023-09-22T01:00:00",
          "2023-09-22T02:00:00",
          "2023-09-22T03:00:00",
          "2023-09-22T04:00:00",
          "2023-09-22T05:00:00",
          "2023-09-22T06:00:00",
          "2023-09-22T07:00:00",
          "2023-09-22T08:00:00",
          "2023-09-22T09:00:00",
          "2023-09-22T10:00:00",
          "2023-09-22T11:00:00",
          "2023-09-22T12:00:00",
          "2023-09-22T13:00:00",
          "2023-09-22T14:00:00",
          "2023-09-22T15:00:00",
          "2023-09-22T16:00:00",
          "2023-09-22T17:00:00",
          "2023-09-22T18:00:00",
          "2023-09-22T19:00:00",
          "2023-09-22T20:00:00",
          "2023-09-22T21:00:00",
          "2023-09-22T22:00:00",
          "2023-09-22T23:00:00",
          "2023-09-23T00:00:00",
          "2023-09-23T01:00:00",
          "2023-09-23T02:00:00",
          "2023-09-23T03:00:00",
          "2023-09-23T04:00:00",
          "2023-09-23T05:00:00",
          "2023-09-23T06:00:00",
          "2023-09-23T07:00:00",
          "2023-09-23T08:00:00",
          "2023-09-23T09:00:00",
          "2023-09-23T10:00:00",
          "2023-09-23T11:00:00",
          "2023-09-23T12:00:00",
          "2023-09-23T13:00:00",
          "2023-09-23T14:00:00",
          "2023-09-23T15:00:00",
          "2023-09-23T16:00:00",
          "2023-09-23T17:00:00",
          "2023-09-23T18:00:00",
          "2023-09-23T19:00:00",
          "2023-09-23T20:00:00",
          "2023-09-23T21:00:00",
          "2023-09-23T22:00:00",
          "2023-09-23T23:00:00",
          "2023-09-24T00:00:00",
          "2023-09-24T01:00:00",
          "2023-09-24T02:00:00",
          "2023-09-24T03:00:00",
          "2023-09-24T04:00:00",
          "2023-09-24T05:00:00",
          "2023-09-24T06:00:00",
          "2023-09-24T07:00:00",
          "2023-09-24T08:00:00",
          "2023-09-24T09:00:00",
          "2023-09-24T10:00:00",
          "2023-09-24T11:00:00",
          "2023-09-24T12:00:00",
          "2023-09-24T13:00:00",
          "2023-09-24T14:00:00",
          "2023-09-24T15:00:00",
          "2023-09-24T16:00:00",
          "2023-09-24T17:00:00",
          "2023-09-24T18:00:00",
          "2023-09-24T19:00:00",
          "2023-09-24T20:00:00",
          "2023-09-24T21:00:00",
          "2023-09-24T22:00:00",
          "2023-09-24T23:00:00",
          "2023-09-25T00:00:00",
          "2023-09-25T01:00:00",
          "2023-09-25T02:00:00",
          "2023-09-25T03:00:00",
          "2023-09-25T04:00:00",
          "2023-09-25T05:00:00",
          "2023-09-25T06:00:00",
          "2023-09-25T07:00:00",
          "2023-09-25T08:00:00",
          "2023-09-25T09:00:00",
          "2023-09-25T10:00:00",
          "2023-09-25T11:00:00",
          "2023-09-25T12:00:00",
          "2023-09-25T13:00:00",
          "2023-09-25T14:00:00",
          "2023-09-25T15:00:00",
          "2023-09-25T16:00:00",
          "2023-09-25T17:00:00",
          "2023-09-25T18:00:00",
          "2023-09-25T19:00:00",
          "2023-09-25T20:00:00",
          "2023-09-25T21:00:00",
          "2023-09-25T22:00:00",
          "2023-09-25T23:00:00",
          "2023-09-26T00:00:00",
          "2023-09-26T01:00:00",
          "2023-09-26T02:00:00",
          "2023-09-26T03:00:00",
          "2023-09-26T04:00:00",
          "2023-09-26T05:00:00",
          "2023-09-26T06:00:00",
          "2023-09-26T07:00:00",
          "2023-09-26T08:00:00",
          "2023-09-26T09:00:00",
          "2023-09-26T10:00:00",
          "2023-09-26T11:00:00",
          "2023-09-26T12:00:00",
          "2023-09-26T13:00:00",
          "2023-09-26T14:00:00",
          "2023-09-26T15:00:00",
          "2023-09-26T16:00:00",
          "2023-09-26T17:00:00",
          "2023-09-26T18:00:00",
          "2023-09-26T19:00:00",
          "2023-09-26T20:00:00",
          "2023-09-26T21:00:00",
          "2023-09-26T22:00:00",
          "2023-09-26T23:00:00",
          "2023-09-27T00:00:00",
          "2023-09-27T01:00:00",
          "2023-09-27T02:00:00",
          "2023-09-27T03:00:00",
          "2023-09-27T04:00:00",
          "2023-09-27T05:00:00",
          "2023-09-27T06:00:00",
          "2023-09-27T07:00:00",
          "2023-09-27T08:00:00",
          "2023-09-27T09:00:00",
          "2023-09-27T10:00:00",
          "2023-09-27T11:00:00",
          "2023-09-27T12:00:00",
          "2023-09-27T13:00:00",
          "2023-09-27T14:00:00",
          "2023-09-27T15:00:00",
          "2023-09-27T16:00:00",
          "2023-09-27T17:00:00",
          "2023-09-27T18:00:00",
          "2023-09-27T19:00:00",
          "2023-09-27T20:00:00",
          "2023-09-27T21:00:00",
          "2023-09-27T22:00:00",
          "2023-09-27T23:00:00",
          "2023-09-28T00:00:00",
          "2023-09-28T01:00:00",
          "2023-09-28T02:00:00",
          "2023-09-28T03:00:00",
          "2023-09-28T04:00:00",
          "2023-09-28T05:00:00",
          "2023-09-28T06:00:00",
          "2023-09-28T07:00:00",
          "2023-09-28T08:00:00",
          "2023-09-28T09:00:00",
          "2023-09-28T10:00:00",
          "2023-09-28T11:00:00",
          "2023-09-28T12:00:00",
          "2023-09-28T13:00:00",
          "2023-09-28T14:00:00",
          "2023-09-28T15:00:00",
          "2023-09-28T16:00:00",
          "2023-09-28T17:00:00",
          "2023-09-28T18:00:00",
          "2023-09-28T19:00:00",
          "2023-09-28T20:00:00",
          "2023-09-28T21:00:00",
          "2023-09-28T22:00:00",
          "2023-09-28T23:00:00",
          "2023-09-29T00:00:00",
          "2023-09-29T01:00:00",
          "2023-09-29T02:00:00",
          "2023-09-29T03:00:00",
          "2023-09-29T04:00:00",
          "2023-09-29T05:00:00",
          "2023-09-29T06:00:00",
          "2023-09-29T07:00:00",
          "2023-09-29T08:00:00",
          "2023-09-29T09:00:00",
          "2023-09-29T10:00:00",
          "2023-09-29T11:00:00",
          "2023-09-29T12:00:00",
          "2023-09-29T13:00:00",
          "2023-09-29T14:00:00",
          "2023-09-29T15:00:00",
          "2023-09-29T16:00:00",
          "2023-09-29T17:00:00",
          "2023-09-29T18:00:00",
          "2023-09-29T19:00:00",
          "2023-09-29T20:00:00",
          "2023-09-29T21:00:00",
          "2023-09-29T22:00:00",
          "2023-09-29T23:00:00",
          "2023-09-30T00:00:00",
          "2023-09-30T01:00:00",
          "2023-09-30T02:00:00",
          "2023-09-30T03:00:00",
          "2023-09-30T04:00:00",
          "2023-09-30T05:00:00",
          "2023-09-30T06:00:00",
          "2023-09-30T07:00:00",
          "2023-09-30T08:00:00",
          "2023-09-30T09:00:00",
          "2023-09-30T10:00:00",
          "2023-09-30T11:00:00",
          "2023-09-30T12:00:00",
          "2023-09-30T13:00:00",
          "2023-09-30T14:00:00",
          "2023-09-30T15:00:00",
          "2023-09-30T16:00:00",
          "2023-09-30T17:00:00",
          "2023-09-30T18:00:00",
          "2023-09-30T19:00:00",
          "2023-09-30T20:00:00",
          "2023-09-30T21:00:00",
          "2023-09-30T22:00:00",
          "2023-09-30T23:00:00",
          "2023-10-01T00:00:00",
          "2023-10-01T01:00:00",
          "2023-10-01T02:00:00",
          "2023-10-01T03:00:00",
          "2023-10-01T04:00:00",
          "2023-10-01T05:00:00",
          "2023-10-01T06:00:00",
          "2023-10-01T07:00:00",
          "2023-10-01T08:00:00",
          "2023-10-01T09:00:00",
          "2023-10-01T10:00:00",
          "2023-10-01T11:00:00",
          "2023-10-01T12:00:00",
          "2023-10-01T13:00:00",
          "2023-10-01T14:00:00",
          "2023-10-01T15:00:00",
          "2023-10-01T16:00:00",
          "2023-10-01T17:00:00",
          "2023-10-01T18:00:00",
          "2023-10-01T19:00:00",
          "2023-10-01T20:00:00",
          "2023-10-01T21:00:00",
          "2023-10-01T22:00:00",
          "2023-10-01T23:00:00",
          "2023-10-02T00:00:00",
          "2023-10-02T01:00:00",
          "2023-10-02T02:00:00",
          "2023-10-02T03:00:00",
          "2023-10-02T04:00:00",
          "2023-10-02T05:00:00",
          "2023-10-02T06:00:00",
          "2023-10-02T07:00:00",
          "2023-10-02T08:00:00",
          "2023-10-02T09:00:00",
          "2023-10-02T10:00:00",
          "2023-10-02T11:00:00",
          "2023-10-02T12:00:00",
          "2023-10-02T13:00:00",
          "2023-10-02T14:00:00",
          "2023-10-02T15:00:00",
          "2023-10-02T16:00:00",
          "2023-10-02T17:00:00",
          "2023-10-02T18:00:00",
          "2023-10-02T19:00:00",
          "2023-10-02T20:00:00",
          "2023-10-02T21:00:00",
          "2023-10-02T22:00:00",
          "2023-10-02T23:00:00",
          "2023-10-03T00:00:00",
          "2023-10-03T01:00:00",
          "2023-10-03T02:00:00",
          "2023-10-03T03:00:00",
          "2023-10-03T04:00:00",
          "2023-10-03T05:00:00",
          "2023-10-03T06:00:00",
          "2023-10-03T07:00:00",
          "2023-10-03T08:00:00",
          "2023-10-03T09:00:00",
          "2023-10-03T10:00:00",
          "2023-10-03T11:00:00",
          "2023-10-03T12:00:00",
          "2023-10-03T13:00:00",
          "2023-10-03T14:00:00",
          "2023-10-03T15:00:00",
          "2023-10-03T16:00:00",
          "2023-10-03T17:00:00",
          "2023-10-03T18:00:00",
          "2023-10-03T19:00:00",
          "2023-10-03T20:00:00",
          "2023-10-03T21:00:00",
          "2023-10-03T22:00:00",
          "2023-10-03T23:00:00",
          "2023-10-04T00:00:00",
          "2023-10-04T01:00:00",
          "2023-10-04T02:00:00",
          "2023-10-04T03:00:00",
          "2023-10-04T04:00:00",
          "2023-10-04T05:00:00",
          "2023-10-04T06:00:00",
          "2023-10-04T07:00:00",
          "2023-10-04T08:00:00",
          "2023-10-04T09:00:00",
          "2023-10-04T10:00:00",
          "2023-10-04T11:00:00",
          "2023-10-04T12:00:00",
          "2023-10-04T13:00:00",
          "2023-10-04T14:00:00",
          "2023-10-04T15:00:00",
          "2023-10-04T16:00:00",
          "2023-10-04T17:00:00",
          "2023-10-04T18:00:00",
          "2023-10-04T19:00:00",
          "2023-10-04T20:00:00",
          "2023-10-04T21:00:00",
          "2023-10-04T22:00:00",
          "2023-10-04T23:00:00",
          "2023-10-05T00:00:00",
          "2023-10-05T01:00:00",
          "2023-10-05T02:00:00",
          "2023-10-05T03:00:00",
          "2023-10-05T04:00:00",
          "2023-10-05T05:00:00",
          "2023-10-05T06:00:00",
          "2023-10-05T07:00:00",
          "2023-10-05T08:00:00",
          "2023-10-05T09:00:00",
          "2023-10-05T10:00:00",
          "2023-10-05T11:00:00",
          "2023-10-05T12:00:00",
          "2023-10-05T13:00:00",
          "2023-10-05T14:00:00",
          "2023-10-05T15:00:00",
          "2023-10-05T16:00:00",
          "2023-10-05T17:00:00",
          "2023-10-05T18:00:00",
          "2023-10-05T19:00:00",
          "2023-10-05T20:00:00",
          "2023-10-05T21:00:00",
          "2023-10-05T22:00:00",
          "2023-10-05T23:00:00",
          "2023-10-06T00:00:00",
          "2023-10-06T01:00:00",
          "2023-10-06T02:00:00",
          "2023-10-06T03:00:00",
          "2023-10-06T04:00:00",
          "2023-10-06T05:00:00",
          "2023-10-06T06:00:00",
          "2023-10-06T07:00:00",
          "2023-10-06T08:00:00",
          "2023-10-06T09:00:00",
          "2023-10-06T10:00:00",
          "2023-10-06T11:00:00",
          "2023-10-06T12:00:00",
          "2023-10-06T13:00:00",
          "2023-10-06T14:00:00",
          "2023-10-06T15:00:00",
          "2023-10-06T16:00:00",
          "2023-10-06T17:00:00",
          "2023-10-06T18:00:00",
          "2023-10-06T19:00:00",
          "2023-10-06T20:00:00",
          "2023-10-06T21:00:00",
          "2023-10-06T22:00:00",
          "2023-10-06T23:00:00",
          "2023-10-07T00:00:00",
          "2023-10-07T01:00:00",
          "2023-10-07T02:00:00",
          "2023-10-07T03:00:00",
          "2023-10-07T04:00:00",
          "2023-10-07T05:00:00",
          "2023-10-07T06:00:00",
          "2023-10-07T07:00:00",
          "2023-10-07T08:00:00",
          "2023-10-07T09:00:00",
          "2023-10-07T10:00:00",
          "2023-10-07T11:00:00",
          "2023-10-07T12:00:00",
          "2023-10-07T13:00:00",
          "2023-10-07T14:00:00",
          "2023-10-07T15:00:00",
          "2023-10-07T16:00:00",
          "2023-10-07T17:00:00",
          "2023-10-07T18:00:00",
          "2023-10-07T19:00:00",
          "2023-10-07T20:00:00",
          "2023-10-07T21:00:00",
          "2023-10-07T22:00:00",
          "2023-10-07T23:00:00",
          "2023-10-08T00:00:00",
          "2023-10-08T01:00:00",
          "2023-10-08T02:00:00",
          "2023-10-08T03:00:00",
          "2023-10-08T04:00:00",
          "2023-10-08T05:00:00",
          "2023-10-08T06:00:00",
          "2023-10-08T07:00:00",
          "2023-10-08T08:00:00",
          "2023-10-08T09:00:00",
          "2023-10-08T10:00:00",
          "2023-10-08T11:00:00",
          "2023-10-08T12:00:00",
          "2023-10-08T13:00:00",
          "2023-10-08T14:00:00",
          "2023-10-08T15:00:00",
          "2023-10-08T16:00:00",
          "2023-10-08T17:00:00",
          "2023-10-08T18:00:00",
          "2023-10-08T19:00:00",
          "2023-10-08T20:00:00",
          "2023-10-08T21:00:00",
          "2023-10-08T22:00:00",
          "2023-10-08T23:00:00",
          "2023-10-09T00:00:00",
          "2023-10-09T01:00:00",
          "2023-10-09T02:00:00",
          "2023-10-09T03:00:00",
          "2023-10-09T04:00:00",
          "2023-10-09T05:00:00",
          "2023-10-09T06:00:00",
          "2023-10-09T07:00:00",
          "2023-10-09T08:00:00",
          "2023-10-09T09:00:00",
          "2023-10-09T10:00:00",
          "2023-10-09T11:00:00",
          "2023-10-09T12:00:00",
          "2023-10-09T13:00:00",
          "2023-10-09T14:00:00",
          "2023-10-09T15:00:00",
          "2023-10-09T16:00:00",
          "2023-10-09T17:00:00",
          "2023-10-09T18:00:00",
          "2023-10-09T19:00:00",
          "2023-10-09T20:00:00",
          "2023-10-09T21:00:00",
          "2023-10-09T22:00:00",
          "2023-10-09T23:00:00",
          "2023-10-10T00:00:00",
          "2023-10-10T01:00:00",
          "2023-10-10T02:00:00",
          "2023-10-10T03:00:00",
          "2023-10-10T04:00:00",
          "2023-10-10T05:00:00",
          "2023-10-10T06:00:00",
          "2023-10-10T07:00:00",
          "2023-10-10T08:00:00",
          "2023-10-10T09:00:00",
          "2023-10-10T10:00:00",
          "2023-10-10T11:00:00",
          "2023-10-10T12:00:00",
          "2023-10-10T13:00:00",
          "2023-10-10T14:00:00",
          "2023-10-10T15:00:00",
          "2023-10-10T16:00:00",
          "2023-10-10T17:00:00",
          "2023-10-10T18:00:00",
          "2023-10-10T19:00:00",
          "2023-10-10T20:00:00",
          "2023-10-10T21:00:00",
          "2023-10-10T22:00:00",
          "2023-10-10T23:00:00",
          "2023-10-11T00:00:00",
          "2023-10-11T01:00:00",
          "2023-10-11T02:00:00",
          "2023-10-11T03:00:00",
          "2023-10-11T04:00:00",
          "2023-10-11T05:00:00",
          "2023-10-11T06:00:00",
          "2023-10-11T07:00:00",
          "2023-10-11T08:00:00",
          "2023-10-11T09:00:00",
          "2023-10-11T10:00:00",
          "2023-10-11T11:00:00",
          "2023-10-11T12:00:00",
          "2023-10-11T13:00:00",
          "2023-10-11T14:00:00",
          "2023-10-11T15:00:00",
          "2023-10-11T16:00:00",
          "2023-10-11T17:00:00",
          "2023-10-11T18:00:00",
          "2023-10-11T19:00:00",
          "2023-10-11T20:00:00",
          "2023-10-11T21:00:00",
          "2023-10-11T22:00:00",
          "2023-10-11T23:00:00",
          "2023-10-12T00:00:00",
          "2023-10-12T01:00:00",
          "2023-10-12T02:00:00",
          "2023-10-12T03:00:00",
          "2023-10-12T04:00:00",
          "2023-10-12T05:00:00",
          "2023-10-12T06:00:00",
          "2023-10-12T07:00:00",
          "2023-10-12T08:00:00",
          "2023-10-12T09:00:00",
          "2023-10-12T10:00:00",
          "2023-10-12T11:00:00",
          "2023-10-12T12:00:00",
          "2023-10-12T13:00:00",
          "2023-10-12T14:00:00",
          "2023-10-12T15:00:00",
          "2023-10-12T16:00:00",
          "2023-10-12T17:00:00",
          "2023-10-12T18:00:00",
          "2023-10-12T19:00:00",
          "2023-10-12T20:00:00",
          "2023-10-12T21:00:00",
          "2023-10-12T22:00:00",
          "2023-10-12T23:00:00",
          "2023-10-13T00:00:00",
          "2023-10-13T01:00:00",
          "2023-10-13T02:00:00",
          "2023-10-13T03:00:00",
          "2023-10-13T04:00:00",
          "2023-10-13T05:00:00",
          "2023-10-13T06:00:00",
          "2023-10-13T07:00:00",
          "2023-10-13T08:00:00",
          "2023-10-13T09:00:00",
          "2023-10-13T10:00:00",
          "2023-10-13T11:00:00",
          "2023-10-13T12:00:00",
          "2023-10-13T13:00:00",
          "2023-10-13T14:00:00",
          "2023-10-13T15:00:00",
          "2023-10-13T16:00:00",
          "2023-10-13T17:00:00",
          "2023-10-13T18:00:00",
          "2023-10-13T19:00:00",
          "2023-10-13T20:00:00",
          "2023-10-13T21:00:00",
          "2023-10-13T22:00:00",
          "2023-10-13T23:00:00",
          "2023-10-14T00:00:00",
          "2023-10-14T01:00:00",
          "2023-10-14T02:00:00",
          "2023-10-14T03:00:00",
          "2023-10-14T04:00:00",
          "2023-10-14T05:00:00",
          "2023-10-14T06:00:00",
          "2023-10-14T07:00:00",
          "2023-10-14T08:00:00",
          "2023-10-14T09:00:00",
          "2023-10-14T10:00:00",
          "2023-10-14T11:00:00",
          "2023-10-14T12:00:00",
          "2023-10-14T13:00:00",
          "2023-10-14T14:00:00",
          "2023-10-14T15:00:00",
          "2023-10-14T16:00:00",
          "2023-10-14T17:00:00",
          "2023-10-14T18:00:00",
          "2023-10-14T19:00:00",
          "2023-10-14T20:00:00",
          "2023-10-14T21:00:00",
          "2023-10-14T22:00:00",
          "2023-10-14T23:00:00",
          "2023-10-15T00:00:00",
          "2023-10-15T01:00:00",
          "2023-10-15T02:00:00",
          "2023-10-15T03:00:00",
          "2023-10-15T04:00:00",
          "2023-10-15T05:00:00",
          "2023-10-15T06:00:00",
          "2023-10-15T07:00:00",
          "2023-10-15T08:00:00",
          "2023-10-15T09:00:00",
          "2023-10-15T10:00:00",
          "2023-10-15T11:00:00",
          "2023-10-15T12:00:00",
          "2023-10-15T13:00:00",
          "2023-10-15T14:00:00",
          "2023-10-15T15:00:00",
          "2023-10-15T16:00:00",
          "2023-10-15T17:00:00",
          "2023-10-15T18:00:00",
          "2023-10-15T19:00:00",
          "2023-10-15T20:00:00",
          "2023-10-15T21:00:00",
          "2023-10-15T22:00:00",
          "2023-10-15T23:00:00",
          "2023-10-16T00:00:00",
          "2023-10-16T01:00:00",
          "2023-10-16T02:00:00",
          "2023-10-16T03:00:00",
          "2023-10-16T04:00:00",
          "2023-10-16T05:00:00",
          "2023-10-16T06:00:00",
          "2023-10-16T07:00:00",
          "2023-10-16T08:00:00",
          "2023-10-16T09:00:00",
          "2023-10-16T10:00:00",
          "2023-10-16T11:00:00",
          "2023-10-16T12:00:00",
          "2023-10-16T13:00:00",
          "2023-10-16T14:00:00",
          "2023-10-16T15:00:00",
          "2023-10-16T16:00:00",
          "2023-10-16T17:00:00",
          "2023-10-16T18:00:00",
          "2023-10-16T19:00:00",
          "2023-10-16T20:00:00",
          "2023-10-16T21:00:00",
          "2023-10-16T22:00:00",
          "2023-10-16T23:00:00",
          "2023-10-17T00:00:00"
         ],
         "xaxis": "x",
         "y": [
          43,
          11,
          2,
          4,
          3,
          7,
          16,
          77,
          90,
          101,
          108,
          132,
          138,
          130,
          190,
          170,
          191,
          275,
          288,
          257,
          280,
          259,
          215,
          160,
          72,
          17,
          6,
          2,
          5,
          1,
          22,
          62,
          119,
          107,
          148,
          130,
          154,
          178,
          178,
          201,
          199,
          229,
          271,
          270,
          309,
          247,
          234,
          162,
          91,
          37,
          17,
          8,
          4,
          6,
          32,
          76,
          113,
          117,
          98,
          132,
          166,
          18,
          6,
          9,
          5,
          11,
          16,
          12,
          13,
          21,
          17,
          13,
          6,
          2,
          0,
          0,
          2,
          1,
          2,
          2,
          8,
          0,
          2,
          1,
          2,
          3,
          10,
          8,
          3,
          5,
          18,
          18,
          12,
          4,
          5,
          12,
          10,
          3,
          5,
          2,
          1,
          0,
          1,
          1,
          0,
          1,
          2,
          9,
          5,
          8,
          10,
          9,
          11,
          12,
          4,
          9,
          6,
          2,
          9,
          8,
          15,
          6,
          5,
          2,
          1,
          0,
          0,
          1,
          0,
          2,
          3,
          2,
          9,
          10,
          6,
          7,
          6,
          7,
          11,
          9,
          4,
          2,
          2,
          1,
          25,
          10,
          1,
          2,
          0,
          5,
          12,
          39,
          51,
          86,
          82,
          92,
          126,
          108,
          110,
          138,
          139,
          159,
          177,
          127,
          161,
          127,
          107,
          65,
          29,
          8,
          4,
          4,
          1,
          6,
          15,
          49,
          98,
          107,
          126,
          140,
          149,
          151,
          193,
          179,
          230,
          249,
          241,
          241,
          222,
          256,
          278,
          136,
          49,
          20,
          7,
          2,
          3,
          7,
          16,
          62,
          106,
          126,
          121,
          171,
          149,
          175,
          194,
          195,
          220,
          273,
          311,
          318,
          317,
          278,
          229,
          181,
          91,
          39,
          14,
          11,
          11,
          3,
          16,
          67,
          117,
          94,
          119,
          132,
          174,
          181,
          221,
          236,
          204,
          338,
          302,
          294,
          296,
          260,
          252,
          235,
          120,
          39,
          20,
          4,
          9,
          7,
          32,
          71,
          100,
          108,
          108,
          85,
          97,
          102,
          113,
          112,
          136,
          174,
          232,
          238,
          159,
          108,
          140,
          154,
          146,
          107,
          52,
          22,
          9,
          9,
          7,
          14,
          39,
          78,
          90,
          123,
          147,
          178,
          184,
          191,
          196,
          214,
          207,
          222,
          204,
          194,
          199,
          217,
          157,
          137,
          90,
          60,
          31,
          18,
          13,
          21,
          28,
          55,
          79,
          112,
          159,
          132,
          145,
          131,
          142,
          140,
          139,
          140,
          133,
          116,
          82,
          58,
          24,
          16,
          6,
          0,
          1,
          5,
          25,
          40,
          74,
          85,
          94,
          132,
          110,
          131,
          159,
          136,
          148,
          167,
          179,
          189,
          151,
          167,
          140,
          77,
          39,
          10,
          3,
          2,
          3,
          4,
          12,
          41,
          82,
          110,
          93,
          125,
          121,
          163,
          202,
          180,
          185,
          243,
          285,
          261,
          262,
          253,
          243,
          144,
          55,
          26,
          9,
          4,
          5,
          5,
          23,
          61,
          91,
          113,
          124,
          135,
          165,
          175,
          184,
          215,
          217,
          244,
          277,
          295,
          270,
          269,
          299,
          188,
          89,
          27,
          19,
          5,
          4,
          6,
          13,
          67,
          98,
          117,
          97,
          129,
          144,
          154,
          216,
          204,
          190,
          259,
          273,
          283,
          299,
          280,
          282,
          207,
          94,
          51,
          12,
          11,
          11,
          13,
          26,
          57,
          58,
          84,
          128,
          122,
          128,
          157,
          184,
          174,
          188,
          218,
          210,
          226,
          192,
          202,
          217,
          222,
          174,
          161,
          78,
          35,
          28,
          7,
          10,
          23,
          26,
          58,
          95,
          123,
          152,
          173,
          182,
          158,
          175,
          147,
          156,
          198,
          199,
          186,
          213,
          204,
          189,
          142,
          92,
          46,
          19,
          6,
          11,
          15,
          26,
          37,
          64,
          105,
          112,
          143,
          154,
          132,
          125,
          146,
          143,
          147,
          120,
          116,
          105,
          66,
          35,
          21,
          5,
          5,
          3,
          5,
          12,
          24,
          51,
          73,
          76,
          93,
          84,
          112,
          134,
          138,
          146,
          153,
          171,
          149,
          141,
          115,
          96,
          43,
          22,
          9,
          3,
          1,
          1,
          1,
          17,
          64,
          88,
          99,
          118,
          135,
          150,
          175,
          178,
          196,
          230,
          223,
          251,
          219,
          229,
          206,
          190,
          98,
          44,
          20,
          4,
          1,
          4,
          2,
          24,
          62,
          103,
          99,
          130,
          140,
          191,
          206,
          202,
          206,
          236,
          251,
          278,
          309,
          270,
          256,
          246,
          189,
          74,
          24,
          15,
          5,
          3,
          5,
          16,
          51,
          103,
          108,
          118,
          167,
          178,
          206,
          223,
          213,
          222,
          301,
          300,
          303,
          280,
          273,
          261,
          187,
          108,
          40,
          12,
          9,
          7,
          6,
          24,
          61,
          90,
          69,
          116,
          124,
          139,
          143,
          162,
          213,
          185,
          198,
          221,
          231,
          208,
          185,
          194,
          215,
          215,
          164,
          92,
          52,
          29,
          5,
          8,
          23,
          43,
          100,
          125,
          180,
          194,
          198,
          219,
          209,
          192,
          197,
          203,
          237,
          171,
          169,
          221,
          200,
          165,
          120,
          68,
          37,
          22,
          5,
          6,
          12,
          34,
          46,
          89,
          123,
          142,
          166,
          183,
          187,
          171,
          167,
          141,
          129,
          139,
          93,
          88,
          48,
          26,
          18,
          5,
          5,
          8,
          5,
          22,
          68,
          99,
          92,
          85,
          106,
          115,
          150,
          136,
          165,
          170,
          232,
          238,
          220,
          155,
          182,
          124,
          66,
          36
         ],
         "yaxis": "y"
        },
        {
         "line": {
          "color": "green"
         },
         "marker": {
          "size": 10
         },
         "mode": "markers",
         "name": "actual value",
         "type": "scatter",
         "x": [
          "2023-10-17T00:00:00"
         ],
         "y": [
          36
         ]
        },
        {
         "line": {
          "color": "red"
         },
         "marker": {
          "size": 15,
          "symbol": "x"
         },
         "mode": "markers",
         "name": "prediction",
         "type": "scatter",
         "x": [
          "2023-10-17T00:00:00"
         ],
         "y": [
          39.529549699892776
         ]
        }
       ],
       "layout": {
        "legend": {
         "tracegroupgap": 0
        },
        "template": {
         "data": {
          "bar": [
           {
            "error_x": {
             "color": "#f2f5fa"
            },
            "error_y": {
             "color": "#f2f5fa"
            },
            "marker": {
             "line": {
              "color": "rgb(17,17,17)",
              "width": 0.5
             },
             "pattern": {
              "fillmode": "overlay",
              "size": 10,
              "solidity": 0.2
             }
            },
            "type": "bar"
           }
          ],
          "barpolar": [
           {
            "marker": {
             "line": {
              "color": "rgb(17,17,17)",
              "width": 0.5
             },
             "pattern": {
              "fillmode": "overlay",
              "size": 10,
              "solidity": 0.2
             }
            },
            "type": "barpolar"
           }
          ],
          "carpet": [
           {
            "aaxis": {
             "endlinecolor": "#A2B1C6",
             "gridcolor": "#506784",
             "linecolor": "#506784",
             "minorgridcolor": "#506784",
             "startlinecolor": "#A2B1C6"
            },
            "baxis": {
             "endlinecolor": "#A2B1C6",
             "gridcolor": "#506784",
             "linecolor": "#506784",
             "minorgridcolor": "#506784",
             "startlinecolor": "#A2B1C6"
            },
            "type": "carpet"
           }
          ],
          "choropleth": [
           {
            "colorbar": {
             "outlinewidth": 0,
             "ticks": ""
            },
            "type": "choropleth"
           }
          ],
          "contour": [
           {
            "colorbar": {
             "outlinewidth": 0,
             "ticks": ""
            },
            "colorscale": [
             [
              0,
              "#0d0887"
             ],
             [
              0.1111111111111111,
              "#46039f"
             ],
             [
              0.2222222222222222,
              "#7201a8"
             ],
             [
              0.3333333333333333,
              "#9c179e"
             ],
             [
              0.4444444444444444,
              "#bd3786"
             ],
             [
              0.5555555555555556,
              "#d8576b"
             ],
             [
              0.6666666666666666,
              "#ed7953"
             ],
             [
              0.7777777777777778,
              "#fb9f3a"
             ],
             [
              0.8888888888888888,
              "#fdca26"
             ],
             [
              1,
              "#f0f921"
             ]
            ],
            "type": "contour"
           }
          ],
          "contourcarpet": [
           {
            "colorbar": {
             "outlinewidth": 0,
             "ticks": ""
            },
            "type": "contourcarpet"
           }
          ],
          "heatmap": [
           {
            "colorbar": {
             "outlinewidth": 0,
             "ticks": ""
            },
            "colorscale": [
             [
              0,
              "#0d0887"
             ],
             [
              0.1111111111111111,
              "#46039f"
             ],
             [
              0.2222222222222222,
              "#7201a8"
             ],
             [
              0.3333333333333333,
              "#9c179e"
             ],
             [
              0.4444444444444444,
              "#bd3786"
             ],
             [
              0.5555555555555556,
              "#d8576b"
             ],
             [
              0.6666666666666666,
              "#ed7953"
             ],
             [
              0.7777777777777778,
              "#fb9f3a"
             ],
             [
              0.8888888888888888,
              "#fdca26"
             ],
             [
              1,
              "#f0f921"
             ]
            ],
            "type": "heatmap"
           }
          ],
          "heatmapgl": [
           {
            "colorbar": {
             "outlinewidth": 0,
             "ticks": ""
            },
            "colorscale": [
             [
              0,
              "#0d0887"
             ],
             [
              0.1111111111111111,
              "#46039f"
             ],
             [
              0.2222222222222222,
              "#7201a8"
             ],
             [
              0.3333333333333333,
              "#9c179e"
             ],
             [
              0.4444444444444444,
              "#bd3786"
             ],
             [
              0.5555555555555556,
              "#d8576b"
             ],
             [
              0.6666666666666666,
              "#ed7953"
             ],
             [
              0.7777777777777778,
              "#fb9f3a"
             ],
             [
              0.8888888888888888,
              "#fdca26"
             ],
             [
              1,
              "#f0f921"
             ]
            ],
            "type": "heatmapgl"
           }
          ],
          "histogram": [
           {
            "marker": {
             "pattern": {
              "fillmode": "overlay",
              "size": 10,
              "solidity": 0.2
             }
            },
            "type": "histogram"
           }
          ],
          "histogram2d": [
           {
            "colorbar": {
             "outlinewidth": 0,
             "ticks": ""
            },
            "colorscale": [
             [
              0,
              "#0d0887"
             ],
             [
              0.1111111111111111,
              "#46039f"
             ],
             [
              0.2222222222222222,
              "#7201a8"
             ],
             [
              0.3333333333333333,
              "#9c179e"
             ],
             [
              0.4444444444444444,
              "#bd3786"
             ],
             [
              0.5555555555555556,
              "#d8576b"
             ],
             [
              0.6666666666666666,
              "#ed7953"
             ],
             [
              0.7777777777777778,
              "#fb9f3a"
             ],
             [
              0.8888888888888888,
              "#fdca26"
             ],
             [
              1,
              "#f0f921"
             ]
            ],
            "type": "histogram2d"
           }
          ],
          "histogram2dcontour": [
           {
            "colorbar": {
             "outlinewidth": 0,
             "ticks": ""
            },
            "colorscale": [
             [
              0,
              "#0d0887"
             ],
             [
              0.1111111111111111,
              "#46039f"
             ],
             [
              0.2222222222222222,
              "#7201a8"
             ],
             [
              0.3333333333333333,
              "#9c179e"
             ],
             [
              0.4444444444444444,
              "#bd3786"
             ],
             [
              0.5555555555555556,
              "#d8576b"
             ],
             [
              0.6666666666666666,
              "#ed7953"
             ],
             [
              0.7777777777777778,
              "#fb9f3a"
             ],
             [
              0.8888888888888888,
              "#fdca26"
             ],
             [
              1,
              "#f0f921"
             ]
            ],
            "type": "histogram2dcontour"
           }
          ],
          "mesh3d": [
           {
            "colorbar": {
             "outlinewidth": 0,
             "ticks": ""
            },
            "type": "mesh3d"
           }
          ],
          "parcoords": [
           {
            "line": {
             "colorbar": {
              "outlinewidth": 0,
              "ticks": ""
             }
            },
            "type": "parcoords"
           }
          ],
          "pie": [
           {
            "automargin": true,
            "type": "pie"
           }
          ],
          "scatter": [
           {
            "marker": {
             "line": {
              "color": "#283442"
             }
            },
            "type": "scatter"
           }
          ],
          "scatter3d": [
           {
            "line": {
             "colorbar": {
              "outlinewidth": 0,
              "ticks": ""
             }
            },
            "marker": {
             "colorbar": {
              "outlinewidth": 0,
              "ticks": ""
             }
            },
            "type": "scatter3d"
           }
          ],
          "scattercarpet": [
           {
            "marker": {
             "colorbar": {
              "outlinewidth": 0,
              "ticks": ""
             }
            },
            "type": "scattercarpet"
           }
          ],
          "scattergeo": [
           {
            "marker": {
             "colorbar": {
              "outlinewidth": 0,
              "ticks": ""
             }
            },
            "type": "scattergeo"
           }
          ],
          "scattergl": [
           {
            "marker": {
             "line": {
              "color": "#283442"
             }
            },
            "type": "scattergl"
           }
          ],
          "scattermapbox": [
           {
            "marker": {
             "colorbar": {
              "outlinewidth": 0,
              "ticks": ""
             }
            },
            "type": "scattermapbox"
           }
          ],
          "scatterpolar": [
           {
            "marker": {
             "colorbar": {
              "outlinewidth": 0,
              "ticks": ""
             }
            },
            "type": "scatterpolar"
           }
          ],
          "scatterpolargl": [
           {
            "marker": {
             "colorbar": {
              "outlinewidth": 0,
              "ticks": ""
             }
            },
            "type": "scatterpolargl"
           }
          ],
          "scatterternary": [
           {
            "marker": {
             "colorbar": {
              "outlinewidth": 0,
              "ticks": ""
             }
            },
            "type": "scatterternary"
           }
          ],
          "surface": [
           {
            "colorbar": {
             "outlinewidth": 0,
             "ticks": ""
            },
            "colorscale": [
             [
              0,
              "#0d0887"
             ],
             [
              0.1111111111111111,
              "#46039f"
             ],
             [
              0.2222222222222222,
              "#7201a8"
             ],
             [
              0.3333333333333333,
              "#9c179e"
             ],
             [
              0.4444444444444444,
              "#bd3786"
             ],
             [
              0.5555555555555556,
              "#d8576b"
             ],
             [
              0.6666666666666666,
              "#ed7953"
             ],
             [
              0.7777777777777778,
              "#fb9f3a"
             ],
             [
              0.8888888888888888,
              "#fdca26"
             ],
             [
              1,
              "#f0f921"
             ]
            ],
            "type": "surface"
           }
          ],
          "table": [
           {
            "cells": {
             "fill": {
              "color": "#506784"
             },
             "line": {
              "color": "rgb(17,17,17)"
             }
            },
            "header": {
             "fill": {
              "color": "#2a3f5f"
             },
             "line": {
              "color": "rgb(17,17,17)"
             }
            },
            "type": "table"
           }
          ]
         },
         "layout": {
          "annotationdefaults": {
           "arrowcolor": "#f2f5fa",
           "arrowhead": 0,
           "arrowwidth": 1
          },
          "autotypenumbers": "strict",
          "coloraxis": {
           "colorbar": {
            "outlinewidth": 0,
            "ticks": ""
           }
          },
          "colorscale": {
           "diverging": [
            [
             0,
             "#8e0152"
            ],
            [
             0.1,
             "#c51b7d"
            ],
            [
             0.2,
             "#de77ae"
            ],
            [
             0.3,
             "#f1b6da"
            ],
            [
             0.4,
             "#fde0ef"
            ],
            [
             0.5,
             "#f7f7f7"
            ],
            [
             0.6,
             "#e6f5d0"
            ],
            [
             0.7,
             "#b8e186"
            ],
            [
             0.8,
             "#7fbc41"
            ],
            [
             0.9,
             "#4d9221"
            ],
            [
             1,
             "#276419"
            ]
           ],
           "sequential": [
            [
             0,
             "#0d0887"
            ],
            [
             0.1111111111111111,
             "#46039f"
            ],
            [
             0.2222222222222222,
             "#7201a8"
            ],
            [
             0.3333333333333333,
             "#9c179e"
            ],
            [
             0.4444444444444444,
             "#bd3786"
            ],
            [
             0.5555555555555556,
             "#d8576b"
            ],
            [
             0.6666666666666666,
             "#ed7953"
            ],
            [
             0.7777777777777778,
             "#fb9f3a"
            ],
            [
             0.8888888888888888,
             "#fdca26"
            ],
            [
             1,
             "#f0f921"
            ]
           ],
           "sequentialminus": [
            [
             0,
             "#0d0887"
            ],
            [
             0.1111111111111111,
             "#46039f"
            ],
            [
             0.2222222222222222,
             "#7201a8"
            ],
            [
             0.3333333333333333,
             "#9c179e"
            ],
            [
             0.4444444444444444,
             "#bd3786"
            ],
            [
             0.5555555555555556,
             "#d8576b"
            ],
            [
             0.6666666666666666,
             "#ed7953"
            ],
            [
             0.7777777777777778,
             "#fb9f3a"
            ],
            [
             0.8888888888888888,
             "#fdca26"
            ],
            [
             1,
             "#f0f921"
            ]
           ]
          },
          "colorway": [
           "#636efa",
           "#EF553B",
           "#00cc96",
           "#ab63fa",
           "#FFA15A",
           "#19d3f3",
           "#FF6692",
           "#B6E880",
           "#FF97FF",
           "#FECB52"
          ],
          "font": {
           "color": "#f2f5fa"
          },
          "geo": {
           "bgcolor": "rgb(17,17,17)",
           "lakecolor": "rgb(17,17,17)",
           "landcolor": "rgb(17,17,17)",
           "showlakes": true,
           "showland": true,
           "subunitcolor": "#506784"
          },
          "hoverlabel": {
           "align": "left"
          },
          "hovermode": "closest",
          "mapbox": {
           "style": "dark"
          },
          "paper_bgcolor": "rgb(17,17,17)",
          "plot_bgcolor": "rgb(17,17,17)",
          "polar": {
           "angularaxis": {
            "gridcolor": "#506784",
            "linecolor": "#506784",
            "ticks": ""
           },
           "bgcolor": "rgb(17,17,17)",
           "radialaxis": {
            "gridcolor": "#506784",
            "linecolor": "#506784",
            "ticks": ""
           }
          },
          "scene": {
           "xaxis": {
            "backgroundcolor": "rgb(17,17,17)",
            "gridcolor": "#506784",
            "gridwidth": 2,
            "linecolor": "#506784",
            "showbackground": true,
            "ticks": "",
            "zerolinecolor": "#C8D4E3"
           },
           "yaxis": {
            "backgroundcolor": "rgb(17,17,17)",
            "gridcolor": "#506784",
            "gridwidth": 2,
            "linecolor": "#506784",
            "showbackground": true,
            "ticks": "",
            "zerolinecolor": "#C8D4E3"
           },
           "zaxis": {
            "backgroundcolor": "rgb(17,17,17)",
            "gridcolor": "#506784",
            "gridwidth": 2,
            "linecolor": "#506784",
            "showbackground": true,
            "ticks": "",
            "zerolinecolor": "#C8D4E3"
           }
          },
          "shapedefaults": {
           "line": {
            "color": "#f2f5fa"
           }
          },
          "sliderdefaults": {
           "bgcolor": "#C8D4E3",
           "bordercolor": "rgb(17,17,17)",
           "borderwidth": 1,
           "tickwidth": 0
          },
          "ternary": {
           "aaxis": {
            "gridcolor": "#506784",
            "linecolor": "#506784",
            "ticks": ""
           },
           "baxis": {
            "gridcolor": "#506784",
            "linecolor": "#506784",
            "ticks": ""
           },
           "bgcolor": "rgb(17,17,17)",
           "caxis": {
            "gridcolor": "#506784",
            "linecolor": "#506784",
            "ticks": ""
           }
          },
          "title": {
           "x": 0.05
          },
          "updatemenudefaults": {
           "bgcolor": "#506784",
           "borderwidth": 0
          },
          "xaxis": {
           "automargin": true,
           "gridcolor": "#283442",
           "linecolor": "#506784",
           "ticks": "",
           "title": {
            "standoff": 15
           },
           "zerolinecolor": "#283442",
           "zerolinewidth": 2
          },
          "yaxis": {
           "automargin": true,
           "gridcolor": "#283442",
           "linecolor": "#506784",
           "ticks": "",
           "title": {
            "standoff": 15
           },
           "zerolinecolor": "#283442",
           "zerolinewidth": 2
          }
         }
        },
        "title": {
         "text": "Pick up hour=2023-10-17 00:00:00, location_id=234"
        },
        "xaxis": {
         "anchor": "y",
         "domain": [
          0,
          1
         ],
         "title": {
          "text": "x"
         }
        },
        "yaxis": {
         "anchor": "x",
         "domain": [
          0,
          1
         ],
         "title": {
          "text": "y"
         }
        }
       }
      }
     },
     "metadata": {},
     "output_type": "display_data"
    }
   ],
   "source": [
    "from src.plot import plot_one_sample\n",
    "\n",
    "plot_one_sample(\n",
    "  features=X_test, \n",
    "  targets=y_test,\n",
    "  example_id=50000,\n",
    "  predictions=pd.Series(predictions)\n",
    ")"
   ]
  },
  {
   "cell_type": "code",
   "execution_count": null,
   "metadata": {},
   "outputs": [],
   "source": []
  }
 ],
 "metadata": {
  "kernelspec": {
   "display_name": ".venv",
   "language": "python",
   "name": "python3"
  },
  "language_info": {
   "codemirror_mode": {
    "name": "ipython",
    "version": 3
   },
   "file_extension": ".py",
   "mimetype": "text/x-python",
   "name": "python",
   "nbconvert_exporter": "python",
   "pygments_lexer": "ipython3",
   "version": "3.9.13"
  }
 },
 "nbformat": 4,
 "nbformat_minor": 2
}
